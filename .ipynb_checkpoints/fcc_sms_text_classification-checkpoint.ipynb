{
 "cells": [
  {
   "cell_type": "code",
   "execution_count": 1,
   "metadata": {
    "colab": {
     "base_uri": "https://localhost:8080/"
    },
    "executionInfo": {
     "elapsed": 65851,
     "status": "ok",
     "timestamp": 1611805664725,
     "user": {
      "displayName": "dwik nurdialit",
      "photoUrl": "https://lh3.googleusercontent.com/a-/AOh14Giow_tfZNy4Fx6wEaAzyIWBgpjyR0lyYhLqsu8k8Q=s64",
      "userId": "08741265208720132226"
     },
     "user_tz": -420
    },
    "id": "8RZOuS9LWQvv",
    "outputId": "4128de0e-56b4-40ed-94a7-fa1cffdc0eb1"
   },
   "outputs": [
    {
     "name": "stdout",
     "output_type": "stream",
     "text": [
      "Requirement already satisfied: tf-nightly in c:\\users\\dell\\anaconda3\\lib\\site-packages (2.6.0.dev20210425)\n",
      "Requirement already satisfied: tf-estimator-nightly~=2.5.0.dev in c:\\users\\dell\\anaconda3\\lib\\site-packages (from tf-nightly) (2.5.0.dev2021032601)\n",
      "Requirement already satisfied: astunparse~=1.6.3 in c:\\users\\dell\\anaconda3\\lib\\site-packages (from tf-nightly) (1.6.3)\n",
      "Requirement already satisfied: typing-extensions~=3.7.4 in c:\\users\\dell\\anaconda3\\lib\\site-packages (from tf-nightly) (3.7.4.3)\n",
      "Requirement already satisfied: grpcio<2.0,>=1.37.0 in c:\\users\\dell\\anaconda3\\lib\\site-packages (from tf-nightly) (1.37.0)\n",
      "Requirement already satisfied: keras-preprocessing~=1.1.2 in c:\\users\\dell\\anaconda3\\lib\\site-packages (from tf-nightly) (1.1.2)\n",
      "Requirement already satisfied: wrapt~=1.12.1 in c:\\users\\dell\\anaconda3\\lib\\site-packages (from tf-nightly) (1.12.1)\n",
      "Requirement already satisfied: gast==0.4.0 in c:\\users\\dell\\anaconda3\\lib\\site-packages (from tf-nightly) (0.4.0)\n",
      "Requirement already satisfied: numpy~=1.19.2 in c:\\users\\dell\\anaconda3\\lib\\site-packages (from tf-nightly) (1.19.2)\n",
      "Requirement already satisfied: keras-nightly~=2.6.0.dev in c:\\users\\dell\\anaconda3\\lib\\site-packages (from tf-nightly) (2.6.0.dev2021042600)\n",
      "Requirement already satisfied: six~=1.15.0 in c:\\users\\dell\\anaconda3\\lib\\site-packages (from tf-nightly) (1.15.0)\n",
      "Requirement already satisfied: wheel~=0.35 in c:\\users\\dell\\anaconda3\\lib\\site-packages (from tf-nightly) (0.35.1)\n",
      "Requirement already satisfied: h5py~=3.1.0 in c:\\users\\dell\\anaconda3\\lib\\site-packages (from tf-nightly) (3.1.0)\n",
      "Requirement already satisfied: flatbuffers~=1.12.0 in c:\\users\\dell\\anaconda3\\lib\\site-packages (from tf-nightly) (1.12)\n",
      "Requirement already satisfied: termcolor~=1.1.0 in c:\\users\\dell\\anaconda3\\lib\\site-packages (from tf-nightly) (1.1.0)\n",
      "Requirement already satisfied: tb-nightly~=2.6.0.a in c:\\users\\dell\\anaconda3\\lib\\site-packages (from tf-nightly) (2.6.0a20210425)\n",
      "Requirement already satisfied: opt-einsum~=3.3.0 in c:\\users\\dell\\anaconda3\\lib\\site-packages (from tf-nightly) (3.3.0)\n",
      "Requirement already satisfied: google-pasta~=0.2 in c:\\users\\dell\\anaconda3\\lib\\site-packages (from tf-nightly) (0.2.0)\n",
      "Requirement already satisfied: protobuf>=3.9.2 in c:\\users\\dell\\anaconda3\\lib\\site-packages (from tf-nightly) (3.15.8)\n",
      "Requirement already satisfied: absl-py~=0.10 in c:\\users\\dell\\anaconda3\\lib\\site-packages (from tf-nightly) (0.12.0)\n",
      "Requirement already satisfied: werkzeug>=0.11.15 in c:\\users\\dell\\anaconda3\\lib\\site-packages (from tb-nightly~=2.6.0.a->tf-nightly) (1.0.1)\n",
      "Requirement already satisfied: setuptools>=41.0.0 in c:\\users\\dell\\anaconda3\\lib\\site-packages (from tb-nightly~=2.6.0.a->tf-nightly) (56.0.0)\n",
      "Requirement already satisfied: google-auth-oauthlib<0.5,>=0.4.1 in c:\\users\\dell\\anaconda3\\lib\\site-packages (from tb-nightly~=2.6.0.a->tf-nightly) (0.4.4)\n",
      "Requirement already satisfied: requests<3,>=2.21.0 in c:\\users\\dell\\anaconda3\\lib\\site-packages (from tb-nightly~=2.6.0.a->tf-nightly) (2.24.0)\n",
      "Requirement already satisfied: tensorboard-data-server<0.7.0,>=0.6.0 in c:\\users\\dell\\anaconda3\\lib\\site-packages (from tb-nightly~=2.6.0.a->tf-nightly) (0.6.0)\n",
      "Requirement already satisfied: google-auth<2,>=1.6.3 in c:\\users\\dell\\anaconda3\\lib\\site-packages (from tb-nightly~=2.6.0.a->tf-nightly) (1.29.0)\n",
      "Requirement already satisfied: tensorboard-plugin-wit>=1.6.0 in c:\\users\\dell\\anaconda3\\lib\\site-packages (from tb-nightly~=2.6.0.a->tf-nightly) (1.8.0)\n",
      "Requirement already satisfied: markdown>=2.6.8 in c:\\users\\dell\\anaconda3\\lib\\site-packages (from tb-nightly~=2.6.0.a->tf-nightly) (3.3.4)\n",
      "Requirement already satisfied: requests-oauthlib>=0.7.0 in c:\\users\\dell\\anaconda3\\lib\\site-packages (from google-auth-oauthlib<0.5,>=0.4.1->tb-nightly~=2.6.0.a->tf-nightly) (1.3.0)\n",
      "Requirement already satisfied: urllib3!=1.25.0,!=1.25.1,<1.26,>=1.21.1 in c:\\users\\dell\\anaconda3\\lib\\site-packages (from requests<3,>=2.21.0->tb-nightly~=2.6.0.a->tf-nightly) (1.25.11)\n",
      "Requirement already satisfied: chardet<4,>=3.0.2 in c:\\users\\dell\\anaconda3\\lib\\site-packages (from requests<3,>=2.21.0->tb-nightly~=2.6.0.a->tf-nightly) (3.0.4)\n",
      "Requirement already satisfied: certifi>=2017.4.17 in c:\\users\\dell\\anaconda3\\lib\\site-packages (from requests<3,>=2.21.0->tb-nightly~=2.6.0.a->tf-nightly) (2020.6.20)\n",
      "Requirement already satisfied: idna<3,>=2.5 in c:\\users\\dell\\anaconda3\\lib\\site-packages (from requests<3,>=2.21.0->tb-nightly~=2.6.0.a->tf-nightly) (2.10)\n",
      "Requirement already satisfied: cachetools<5.0,>=2.0.0 in c:\\users\\dell\\anaconda3\\lib\\site-packages (from google-auth<2,>=1.6.3->tb-nightly~=2.6.0.a->tf-nightly) (4.2.1)\n",
      "Requirement already satisfied: rsa<5,>=3.1.4; python_version >= \"3.6\" in c:\\users\\dell\\anaconda3\\lib\\site-packages (from google-auth<2,>=1.6.3->tb-nightly~=2.6.0.a->tf-nightly) (4.7.2)\n",
      "Requirement already satisfied: pyasn1-modules>=0.2.1 in c:\\users\\dell\\anaconda3\\lib\\site-packages (from google-auth<2,>=1.6.3->tb-nightly~=2.6.0.a->tf-nightly) (0.2.8)\n",
      "Requirement already satisfied: oauthlib>=3.0.0 in c:\\users\\dell\\anaconda3\\lib\\site-packages (from requests-oauthlib>=0.7.0->google-auth-oauthlib<0.5,>=0.4.1->tb-nightly~=2.6.0.a->tf-nightly) (3.1.0)\n",
      "Requirement already satisfied: pyasn1>=0.1.3 in c:\\users\\dell\\anaconda3\\lib\\site-packages (from rsa<5,>=3.1.4; python_version >= \"3.6\"->google-auth<2,>=1.6.3->tb-nightly~=2.6.0.a->tf-nightly) (0.4.8)\n",
      "Requirement already satisfied: tensorflow-datasets in c:\\users\\dell\\anaconda3\\lib\\site-packages (4.2.0)\n",
      "Requirement already satisfied: tqdm in c:\\users\\dell\\anaconda3\\lib\\site-packages (from tensorflow-datasets) (4.50.2)\n",
      "Requirement already satisfied: importlib-resources; python_version < \"3.9\" in c:\\users\\dell\\anaconda3\\lib\\site-packages (from tensorflow-datasets) (5.1.2)\n",
      "Requirement already satisfied: dill in c:\\users\\dell\\anaconda3\\lib\\site-packages (from tensorflow-datasets) (0.3.3)\n",
      "Requirement already satisfied: future in c:\\users\\dell\\anaconda3\\lib\\site-packages (from tensorflow-datasets) (0.18.2)\n",
      "Requirement already satisfied: promise in c:\\users\\dell\\anaconda3\\lib\\site-packages (from tensorflow-datasets) (2.3)\n",
      "Requirement already satisfied: numpy in c:\\users\\dell\\anaconda3\\lib\\site-packages (from tensorflow-datasets) (1.19.2)\n",
      "Requirement already satisfied: requests>=2.19.0 in c:\\users\\dell\\anaconda3\\lib\\site-packages (from tensorflow-datasets) (2.24.0)\n",
      "Requirement already satisfied: six in c:\\users\\dell\\anaconda3\\lib\\site-packages (from tensorflow-datasets) (1.15.0)\n",
      "Requirement already satisfied: tensorflow-metadata in c:\\users\\dell\\anaconda3\\lib\\site-packages (from tensorflow-datasets) (0.30.0)\n",
      "Requirement already satisfied: attrs>=18.1.0 in c:\\users\\dell\\anaconda3\\lib\\site-packages (from tensorflow-datasets) (20.3.0)\n",
      "Requirement already satisfied: termcolor in c:\\users\\dell\\anaconda3\\lib\\site-packages (from tensorflow-datasets) (1.1.0)\n",
      "Requirement already satisfied: absl-py in c:\\users\\dell\\anaconda3\\lib\\site-packages (from tensorflow-datasets) (0.12.0)\n",
      "Requirement already satisfied: protobuf>=3.12.2 in c:\\users\\dell\\anaconda3\\lib\\site-packages (from tensorflow-datasets) (3.15.8)\n",
      "Requirement already satisfied: certifi>=2017.4.17 in c:\\users\\dell\\anaconda3\\lib\\site-packages (from requests>=2.19.0->tensorflow-datasets) (2020.6.20)\n",
      "Requirement already satisfied: urllib3!=1.25.0,!=1.25.1,<1.26,>=1.21.1 in c:\\users\\dell\\anaconda3\\lib\\site-packages (from requests>=2.19.0->tensorflow-datasets) (1.25.11)\n",
      "Requirement already satisfied: idna<3,>=2.5 in c:\\users\\dell\\anaconda3\\lib\\site-packages (from requests>=2.19.0->tensorflow-datasets) (2.10)\n",
      "Requirement already satisfied: chardet<4,>=3.0.2 in c:\\users\\dell\\anaconda3\\lib\\site-packages (from requests>=2.19.0->tensorflow-datasets) (3.0.4)\n",
      "Requirement already satisfied: googleapis-common-protos<2,>=1.52.0 in c:\\users\\dell\\anaconda3\\lib\\site-packages (from tensorflow-metadata->tensorflow-datasets) (1.53.0)\n",
      "2.6.0-dev20210425\n"
     ]
    }
   ],
   "source": [
    "# import libraries\n",
    "try:\n",
    "  # %tensorflow_version only exists in Colab.\n",
    "  !pip install tf-nightly\n",
    "except Exception:\n",
    "  pass\n",
    "import tensorflow as tf\n",
    "import pandas as pd\n",
    "from tensorflow import keras\n",
    "!pip install tensorflow-datasets\n",
    "import tensorflow_datasets as tfds\n",
    "import numpy as np\n",
    "import matplotlib.pyplot as plt\n",
    "\n",
    "print(tf.__version__)"
   ]
  },
  {
   "cell_type": "markdown",
   "metadata": {
    "id": "e4hTKXxBHUvU"
   },
   "source": [
    "#1. Load the Data"
   ]
  },
  {
   "cell_type": "code",
   "execution_count": 2,
   "metadata": {
    "colab": {
     "base_uri": "https://localhost:8080/"
    },
    "executionInfo": {
     "elapsed": 1172,
     "status": "ok",
     "timestamp": 1611805723406,
     "user": {
      "displayName": "dwik nurdialit",
      "photoUrl": "https://lh3.googleusercontent.com/a-/AOh14Giow_tfZNy4Fx6wEaAzyIWBgpjyR0lyYhLqsu8k8Q=s64",
      "userId": "08741265208720132226"
     },
     "user_tz": -420
    },
    "id": "lMHwYXHXCar3",
    "outputId": "cffe7bd1-fc18-4343-dd65-563f9ebcb735"
   },
   "outputs": [],
   "source": [
    "# get data files\n",
    "train_url = \"https://raw.githubusercontent.com/beaucarnes/fcc_python_curriculum/master/sms/train-data.tsv\"\n",
    "test_url = \"https://raw.githubusercontent.com/beaucarnes/fcc_python_curriculum/master/sms/valid-data.tsv\"\n",
    "\n",
    "train_file_path = tf.keras.utils.get_file(\"train-data.tsv\", train_url)\n",
    "test_file_path = tf.keras.utils.get_file(\"valid-data.tsv\", test_url)"
   ]
  },
  {
   "cell_type": "code",
   "execution_count": 3,
   "metadata": {
    "colab": {
     "base_uri": "https://localhost:8080/",
     "height": 359
    },
    "executionInfo": {
     "elapsed": 1320,
     "status": "ok",
     "timestamp": 1611805774199,
     "user": {
      "displayName": "dwik nurdialit",
      "photoUrl": "https://lh3.googleusercontent.com/a-/AOh14Giow_tfZNy4Fx6wEaAzyIWBgpjyR0lyYhLqsu8k8Q=s64",
      "userId": "08741265208720132226"
     },
     "user_tz": -420
    },
    "id": "g_h508FEClxO",
    "outputId": "118daa48-4587-4856-be6c-11130af22bed"
   },
   "outputs": [
    {
     "data": {
      "text/html": [
       "<div>\n",
       "<style scoped>\n",
       "    .dataframe tbody tr th:only-of-type {\n",
       "        vertical-align: middle;\n",
       "    }\n",
       "\n",
       "    .dataframe tbody tr th {\n",
       "        vertical-align: top;\n",
       "    }\n",
       "\n",
       "    .dataframe thead th {\n",
       "        text-align: right;\n",
       "    }\n",
       "</style>\n",
       "<table border=\"1\" class=\"dataframe\">\n",
       "  <thead>\n",
       "    <tr style=\"text-align: right;\">\n",
       "      <th></th>\n",
       "      <th>label</th>\n",
       "      <th>text</th>\n",
       "    </tr>\n",
       "  </thead>\n",
       "  <tbody>\n",
       "    <tr>\n",
       "      <th>0</th>\n",
       "      <td>ham</td>\n",
       "      <td>ahhhh...just woken up!had a bad dream about u ...</td>\n",
       "    </tr>\n",
       "    <tr>\n",
       "      <th>1</th>\n",
       "      <td>ham</td>\n",
       "      <td>you can never do nothing</td>\n",
       "    </tr>\n",
       "    <tr>\n",
       "      <th>2</th>\n",
       "      <td>ham</td>\n",
       "      <td>now u sound like manky scouse boy steve,like! ...</td>\n",
       "    </tr>\n",
       "    <tr>\n",
       "      <th>3</th>\n",
       "      <td>ham</td>\n",
       "      <td>mum say we wan to go then go... then she can s...</td>\n",
       "    </tr>\n",
       "    <tr>\n",
       "      <th>4</th>\n",
       "      <td>ham</td>\n",
       "      <td>never y lei... i v lazy... got wat? dat day ü ...</td>\n",
       "    </tr>\n",
       "    <tr>\n",
       "      <th>5</th>\n",
       "      <td>ham</td>\n",
       "      <td>in xam hall boy asked girl tell me the startin...</td>\n",
       "    </tr>\n",
       "    <tr>\n",
       "      <th>6</th>\n",
       "      <td>ham</td>\n",
       "      <td>genius what's up. how your brother. pls send h...</td>\n",
       "    </tr>\n",
       "    <tr>\n",
       "      <th>7</th>\n",
       "      <td>ham</td>\n",
       "      <td>they finally came to fix the ceiling.</td>\n",
       "    </tr>\n",
       "    <tr>\n",
       "      <th>8</th>\n",
       "      <td>spam</td>\n",
       "      <td>urgent! call 09066350750 from your landline. y...</td>\n",
       "    </tr>\n",
       "    <tr>\n",
       "      <th>9</th>\n",
       "      <td>ham</td>\n",
       "      <td>now that you have started dont stop. just pray...</td>\n",
       "    </tr>\n",
       "  </tbody>\n",
       "</table>\n",
       "</div>"
      ],
      "text/plain": [
       "  label                                               text\n",
       "0   ham  ahhhh...just woken up!had a bad dream about u ...\n",
       "1   ham                           you can never do nothing\n",
       "2   ham  now u sound like manky scouse boy steve,like! ...\n",
       "3   ham  mum say we wan to go then go... then she can s...\n",
       "4   ham  never y lei... i v lazy... got wat? dat day ü ...\n",
       "5   ham  in xam hall boy asked girl tell me the startin...\n",
       "6   ham  genius what's up. how your brother. pls send h...\n",
       "7   ham              they finally came to fix the ceiling.\n",
       "8  spam  urgent! call 09066350750 from your landline. y...\n",
       "9   ham  now that you have started dont stop. just pray..."
      ]
     },
     "execution_count": 3,
     "metadata": {},
     "output_type": "execute_result"
    }
   ],
   "source": [
    "df_train = pd.read_csv(train_file_path, sep=\"\\t\", header=None, names=['label', 'text'])\n",
    "df_train.head(10)"
   ]
  },
  {
   "cell_type": "code",
   "execution_count": 4,
   "metadata": {
    "colab": {
     "base_uri": "https://localhost:8080/",
     "height": 359
    },
    "executionInfo": {
     "elapsed": 854,
     "status": "ok",
     "timestamp": 1611805818701,
     "user": {
      "displayName": "dwik nurdialit",
      "photoUrl": "https://lh3.googleusercontent.com/a-/AOh14Giow_tfZNy4Fx6wEaAzyIWBgpjyR0lyYhLqsu8k8Q=s64",
      "userId": "08741265208720132226"
     },
     "user_tz": -420
    },
    "id": "zOMKywn4zReN",
    "outputId": "5207f8bb-b342-4849-c91c-52634a4f4448"
   },
   "outputs": [
    {
     "data": {
      "text/html": [
       "<div>\n",
       "<style scoped>\n",
       "    .dataframe tbody tr th:only-of-type {\n",
       "        vertical-align: middle;\n",
       "    }\n",
       "\n",
       "    .dataframe tbody tr th {\n",
       "        vertical-align: top;\n",
       "    }\n",
       "\n",
       "    .dataframe thead th {\n",
       "        text-align: right;\n",
       "    }\n",
       "</style>\n",
       "<table border=\"1\" class=\"dataframe\">\n",
       "  <thead>\n",
       "    <tr style=\"text-align: right;\">\n",
       "      <th></th>\n",
       "      <th>label</th>\n",
       "      <th>text</th>\n",
       "    </tr>\n",
       "  </thead>\n",
       "  <tbody>\n",
       "    <tr>\n",
       "      <th>0</th>\n",
       "      <td>ham</td>\n",
       "      <td>i am in hospital da. . i will return home in e...</td>\n",
       "    </tr>\n",
       "    <tr>\n",
       "      <th>1</th>\n",
       "      <td>ham</td>\n",
       "      <td>not much, just some textin'. how bout you?</td>\n",
       "    </tr>\n",
       "    <tr>\n",
       "      <th>2</th>\n",
       "      <td>ham</td>\n",
       "      <td>i probably won't eat at all today. i think i'm...</td>\n",
       "    </tr>\n",
       "    <tr>\n",
       "      <th>3</th>\n",
       "      <td>ham</td>\n",
       "      <td>don‘t give a flying monkeys wot they think and...</td>\n",
       "    </tr>\n",
       "    <tr>\n",
       "      <th>4</th>\n",
       "      <td>ham</td>\n",
       "      <td>who are you seeing?</td>\n",
       "    </tr>\n",
       "    <tr>\n",
       "      <th>5</th>\n",
       "      <td>ham</td>\n",
       "      <td>your opinion about me? 1. over 2. jada 3. kusr...</td>\n",
       "    </tr>\n",
       "    <tr>\n",
       "      <th>6</th>\n",
       "      <td>ham</td>\n",
       "      <td>yesterday its with me only . now am going home.</td>\n",
       "    </tr>\n",
       "    <tr>\n",
       "      <th>7</th>\n",
       "      <td>ham</td>\n",
       "      <td>yes. it's all innocent fun. o:-)</td>\n",
       "    </tr>\n",
       "    <tr>\n",
       "      <th>8</th>\n",
       "      <td>ham</td>\n",
       "      <td>a boy was late 2 home. his father: power of fr...</td>\n",
       "    </tr>\n",
       "    <tr>\n",
       "      <th>9</th>\n",
       "      <td>ham</td>\n",
       "      <td>is ur changes 2 da report big? cos i've alread...</td>\n",
       "    </tr>\n",
       "  </tbody>\n",
       "</table>\n",
       "</div>"
      ],
      "text/plain": [
       "  label                                               text\n",
       "0   ham  i am in hospital da. . i will return home in e...\n",
       "1   ham         not much, just some textin'. how bout you?\n",
       "2   ham  i probably won't eat at all today. i think i'm...\n",
       "3   ham  don‘t give a flying monkeys wot they think and...\n",
       "4   ham                                who are you seeing?\n",
       "5   ham  your opinion about me? 1. over 2. jada 3. kusr...\n",
       "6   ham    yesterday its with me only . now am going home.\n",
       "7   ham                   yes. it's all innocent fun. o:-)\n",
       "8   ham  a boy was late 2 home. his father: power of fr...\n",
       "9   ham  is ur changes 2 da report big? cos i've alread..."
      ]
     },
     "execution_count": 4,
     "metadata": {},
     "output_type": "execute_result"
    }
   ],
   "source": [
    "df_test = pd.read_csv(test_file_path, sep=\"\\t\", header=None, names=['label', 'text'])\n",
    "df_test.head(10)"
   ]
  },
  {
   "cell_type": "code",
   "execution_count": 5,
   "metadata": {
    "colab": {
     "base_uri": "https://localhost:8080/"
    },
    "executionInfo": {
     "elapsed": 1062,
     "status": "ok",
     "timestamp": 1611806062133,
     "user": {
      "displayName": "dwik nurdialit",
      "photoUrl": "https://lh3.googleusercontent.com/a-/AOh14Giow_tfZNy4Fx6wEaAzyIWBgpjyR0lyYhLqsu8k8Q=s64",
      "userId": "08741265208720132226"
     },
     "user_tz": -420
    },
    "id": "nsD5jYhmH4Wv",
    "outputId": "e7221bfa-f5fa-453b-b61b-d8fb13b31042"
   },
   "outputs": [
    {
     "data": {
      "text/plain": [
       "(4179, 2)"
      ]
     },
     "execution_count": 5,
     "metadata": {},
     "output_type": "execute_result"
    }
   ],
   "source": [
    "df_train.shape"
   ]
  },
  {
   "cell_type": "code",
   "execution_count": 6,
   "metadata": {
    "colab": {
     "base_uri": "https://localhost:8080/"
    },
    "executionInfo": {
     "elapsed": 1004,
     "status": "ok",
     "timestamp": 1611806070013,
     "user": {
      "displayName": "dwik nurdialit",
      "photoUrl": "https://lh3.googleusercontent.com/a-/AOh14Giow_tfZNy4Fx6wEaAzyIWBgpjyR0lyYhLqsu8k8Q=s64",
      "userId": "08741265208720132226"
     },
     "user_tz": -420
    },
    "id": "NSzBMqevILwd",
    "outputId": "4927809c-11bb-4b15-b6ca-560298e97d98"
   },
   "outputs": [
    {
     "data": {
      "text/plain": [
       "(1392, 2)"
      ]
     },
     "execution_count": 6,
     "metadata": {},
     "output_type": "execute_result"
    }
   ],
   "source": [
    "df_test.shape"
   ]
  },
  {
   "cell_type": "markdown",
   "metadata": {
    "id": "NydWel13Ij50"
   },
   "source": [
    "#2. Encode Categorycal Data"
   ]
  },
  {
   "cell_type": "code",
   "execution_count": 7,
   "metadata": {
    "colab": {
     "base_uri": "https://localhost:8080/"
    },
    "executionInfo": {
     "elapsed": 1086,
     "status": "ok",
     "timestamp": 1611806287507,
     "user": {
      "displayName": "dwik nurdialit",
      "photoUrl": "https://lh3.googleusercontent.com/a-/AOh14Giow_tfZNy4Fx6wEaAzyIWBgpjyR0lyYhLqsu8k8Q=s64",
      "userId": "08741265208720132226"
     },
     "user_tz": -420
    },
    "id": "6fAjdIRzIrE1",
    "outputId": "80454d4d-8f1a-4c23-d809-b2b5ff1dc54e"
   },
   "outputs": [
    {
     "data": {
      "text/plain": [
       "0    0\n",
       "1    0\n",
       "2    0\n",
       "3    0\n",
       "4    0\n",
       "5    0\n",
       "6    0\n",
       "7    0\n",
       "8    1\n",
       "9    0\n",
       "dtype: int8"
      ]
     },
     "execution_count": 7,
     "metadata": {},
     "output_type": "execute_result"
    }
   ],
   "source": [
    "y_train = df_train['label'].astype('category').cat.codes\n",
    "y_test  = df_test['label'].astype('category').cat.codes\n",
    "y_train[:10]"
   ]
  },
  {
   "cell_type": "markdown",
   "metadata": {
    "id": "0NgFOjkyJG40"
   },
   "source": [
    "#3. Preparing for Model"
   ]
  },
  {
   "cell_type": "code",
   "execution_count": 8,
   "metadata": {
    "colab": {
     "base_uri": "https://localhost:8080/"
    },
    "executionInfo": {
     "elapsed": 2758,
     "status": "ok",
     "timestamp": 1611806349839,
     "user": {
      "displayName": "dwik nurdialit",
      "photoUrl": "https://lh3.googleusercontent.com/a-/AOh14Giow_tfZNy4Fx6wEaAzyIWBgpjyR0lyYhLqsu8k8Q=s64",
      "userId": "08741265208720132226"
     },
     "user_tz": -420
    },
    "id": "ZrQeTV4iJLYB",
    "outputId": "a7b06c56-e8a8-456d-b977-f2075a22fdb4"
   },
   "outputs": [
    {
     "name": "stderr",
     "output_type": "stream",
     "text": [
      "[nltk_data] Downloading package stopwords to\n",
      "[nltk_data]     C:\\Users\\Dell\\AppData\\Roaming\\nltk_data...\n",
      "[nltk_data]   Package stopwords is already up-to-date!\n",
      "[nltk_data] Downloading package wordnet to\n",
      "[nltk_data]     C:\\Users\\Dell\\AppData\\Roaming\\nltk_data...\n",
      "[nltk_data]   Package wordnet is already up-to-date!\n"
     ]
    },
    {
     "data": {
      "text/plain": [
       "True"
      ]
     },
     "execution_count": 8,
     "metadata": {},
     "output_type": "execute_result"
    }
   ],
   "source": [
    "import nltk\n",
    "nltk.download('stopwords') # download stopwords\n",
    "nltk.download('wordnet')   # download vocab for lemmatizer"
   ]
  },
  {
   "cell_type": "code",
   "execution_count": 9,
   "metadata": {
    "executionInfo": {
     "elapsed": 896,
     "status": "ok",
     "timestamp": 1611806367984,
     "user": {
      "displayName": "dwik nurdialit",
      "photoUrl": "https://lh3.googleusercontent.com/a-/AOh14Giow_tfZNy4Fx6wEaAzyIWBgpjyR0lyYhLqsu8k8Q=s64",
      "userId": "08741265208720132226"
     },
     "user_tz": -420
    },
    "id": "iH1XRwgcJTDg"
   },
   "outputs": [],
   "source": [
    "import re\n",
    "from nltk.stem import WordNetLemmatizer \n",
    "from nltk.corpus import stopwords"
   ]
  },
  {
   "cell_type": "code",
   "execution_count": 10,
   "metadata": {
    "colab": {
     "base_uri": "https://localhost:8080/"
    },
    "executionInfo": {
     "elapsed": 993,
     "status": "ok",
     "timestamp": 1611806386700,
     "user": {
      "displayName": "dwik nurdialit",
      "photoUrl": "https://lh3.googleusercontent.com/a-/AOh14Giow_tfZNy4Fx6wEaAzyIWBgpjyR0lyYhLqsu8k8Q=s64",
      "userId": "08741265208720132226"
     },
     "user_tz": -420
    },
    "id": "Kgt1lUVDJWw8",
    "outputId": "1c9aef86-3083-4d7a-d911-ca283273eb9f"
   },
   "outputs": [
    {
     "data": {
      "text/plain": [
       "179"
      ]
     },
     "execution_count": 10,
     "metadata": {},
     "output_type": "execute_result"
    }
   ],
   "source": [
    "stopwords_eng = set(stopwords.words('english'))\n",
    "len(stopwords_eng)"
   ]
  },
  {
   "cell_type": "code",
   "execution_count": 11,
   "metadata": {
    "executionInfo": {
     "elapsed": 912,
     "status": "ok",
     "timestamp": 1611806416973,
     "user": {
      "displayName": "dwik nurdialit",
      "photoUrl": "https://lh3.googleusercontent.com/a-/AOh14Giow_tfZNy4Fx6wEaAzyIWBgpjyR0lyYhLqsu8k8Q=s64",
      "userId": "08741265208720132226"
     },
     "user_tz": -420
    },
    "id": "mWr-EoPgJcM6"
   },
   "outputs": [],
   "source": [
    "lemmatizer = WordNetLemmatizer()\n",
    "\n",
    "def clean_txt(txt):\n",
    "    txt = re.sub(r'([^\\s\\w])+', ' ', txt)\n",
    "    txt = \" \".join([lemmatizer.lemmatize(word) for word in txt.split()\n",
    "                    if not word in stopwords_eng])\n",
    "    txt = txt.lower()\n",
    "    return txt"
   ]
  },
  {
   "cell_type": "code",
   "execution_count": 12,
   "metadata": {
    "colab": {
     "base_uri": "https://localhost:8080/"
    },
    "executionInfo": {
     "elapsed": 2410,
     "status": "ok",
     "timestamp": 1611806457743,
     "user": {
      "displayName": "dwik nurdialit",
      "photoUrl": "https://lh3.googleusercontent.com/a-/AOh14Giow_tfZNy4Fx6wEaAzyIWBgpjyR0lyYhLqsu8k8Q=s64",
      "userId": "08741265208720132226"
     },
     "user_tz": -420
    },
    "id": "dLV3CoPpJlKO",
    "outputId": "690267ec-c507-469b-cdff-31c414291be4"
   },
   "outputs": [
    {
     "data": {
      "text/plain": [
       "0    ahhhh woken bad dream u tho dont like u right ...\n",
       "1                                        never nothing\n",
       "2    u sound like manky scouse boy steve like trave...\n",
       "3    mum say wan go go shun bian watch da glass exh...\n",
       "4    never lei v lazy got wat dat day ü send da url...\n",
       "5    xam hall boy asked girl tell starting term dis...\n",
       "6                 genius brother pls send number skype\n",
       "7                             finally came fix ceiling\n",
       "8    urgent call 09066350750 landline complimentary...\n",
       "9    started dont stop pray good idea anything see ...\n",
       "Name: text, dtype: object"
      ]
     },
     "execution_count": 12,
     "metadata": {},
     "output_type": "execute_result"
    }
   ],
   "source": [
    "X_train = df_train['text'].apply(lambda x: clean_txt(x))\n",
    "X_train[:10]"
   ]
  },
  {
   "cell_type": "markdown",
   "metadata": {
    "id": "tNd7VUvkJ0w2"
   },
   "source": [
    "#4. Training the Neural Network"
   ]
  },
  {
   "cell_type": "code",
   "execution_count": 13,
   "metadata": {
    "executionInfo": {
     "elapsed": 1088,
     "status": "ok",
     "timestamp": 1611806546126,
     "user": {
      "displayName": "dwik nurdialit",
      "photoUrl": "https://lh3.googleusercontent.com/a-/AOh14Giow_tfZNy4Fx6wEaAzyIWBgpjyR0lyYhLqsu8k8Q=s64",
      "userId": "08741265208720132226"
     },
     "user_tz": -420
    },
    "id": "Dt7ubkEpJ7ZB"
   },
   "outputs": [],
   "source": [
    "from tensorflow.keras.preprocessing.text import Tokenizer\n",
    "from keras.preprocessing import sequence"
   ]
  },
  {
   "cell_type": "code",
   "execution_count": 14,
   "metadata": {
    "executionInfo": {
     "elapsed": 831,
     "status": "ok",
     "timestamp": 1611806556558,
     "user": {
      "displayName": "dwik nurdialit",
      "photoUrl": "https://lh3.googleusercontent.com/a-/AOh14Giow_tfZNy4Fx6wEaAzyIWBgpjyR0lyYhLqsu8k8Q=s64",
      "userId": "08741265208720132226"
     },
     "user_tz": -420
    },
    "id": "bQ6nHJj8KByk"
   },
   "outputs": [],
   "source": [
    "# Keep top 1000 frequently occurring words\n",
    "max_words = 1000\n",
    "\n",
    "# Cut off the words after seeing 500 words in each document\n",
    "max_len = 500"
   ]
  },
  {
   "cell_type": "code",
   "execution_count": 15,
   "metadata": {
    "executionInfo": {
     "elapsed": 1135,
     "status": "ok",
     "timestamp": 1611806570276,
     "user": {
      "displayName": "dwik nurdialit",
      "photoUrl": "https://lh3.googleusercontent.com/a-/AOh14Giow_tfZNy4Fx6wEaAzyIWBgpjyR0lyYhLqsu8k8Q=s64",
      "userId": "08741265208720132226"
     },
     "user_tz": -420
    },
    "id": "ZWS49nnKKElP"
   },
   "outputs": [],
   "source": [
    "t = Tokenizer(num_words=max_words)\n",
    "t.fit_on_texts(X_train)"
   ]
  },
  {
   "cell_type": "code",
   "execution_count": 16,
   "metadata": {
    "colab": {
     "base_uri": "https://localhost:8080/"
    },
    "executionInfo": {
     "elapsed": 1039,
     "status": "ok",
     "timestamp": 1611806595957,
     "user": {
      "displayName": "dwik nurdialit",
      "photoUrl": "https://lh3.googleusercontent.com/a-/AOh14Giow_tfZNy4Fx6wEaAzyIWBgpjyR0lyYhLqsu8k8Q=s64",
      "userId": "08741265208720132226"
     },
     "user_tz": -420
    },
    "id": "o9w0rB15KH4Z",
    "outputId": "9662c39f-5e31-41ab-f8d0-e3348651f437"
   },
   "outputs": [
    {
     "data": {
      "text/plain": [
       "[[309, 227, 1, 587, 42, 15, 1, 90, 359, 13, 103, 54, 228, 86],\n",
       " [195, 252],\n",
       " [1, 310, 15, 219, 15, 43, 311, 37, 386, 1, 6, 338, 422],\n",
       " [477, 58, 188, 8, 8, 243, 43],\n",
       " [195, 478, 167, 821, 18, 77, 212, 12, 28, 22, 43, 124, 70, 24],\n",
       " [219, 405, 173, 44, 677, 338, 339, 285, 142, 32, 137, 91],\n",
       " [387, 46, 22, 73],\n",
       " [588, 320],\n",
       " [143,\n",
       "  2,\n",
       "  286,\n",
       "  735,\n",
       "  6,\n",
       "  182,\n",
       "  235,\n",
       "  406,\n",
       "  92,\n",
       "  451,\n",
       "  360,\n",
       "  452,\n",
       "  33,\n",
       "  287,\n",
       "  244,\n",
       "  515,\n",
       "  183],\n",
       " [407, 42, 35, 736, 17, 103, 38, 148, 120, 737]]"
      ]
     },
     "execution_count": 16,
     "metadata": {},
     "output_type": "execute_result"
    }
   ],
   "source": [
    "sequences = t.texts_to_sequences(X_train)\n",
    "sequences[:10]"
   ]
  },
  {
   "cell_type": "code",
   "execution_count": 17,
   "metadata": {
    "colab": {
     "base_uri": "https://localhost:8080/"
    },
    "executionInfo": {
     "elapsed": 861,
     "status": "ok",
     "timestamp": 1611806619899,
     "user": {
      "displayName": "dwik nurdialit",
      "photoUrl": "https://lh3.googleusercontent.com/a-/AOh14Giow_tfZNy4Fx6wEaAzyIWBgpjyR0lyYhLqsu8k8Q=s64",
      "userId": "08741265208720132226"
     },
     "user_tz": -420
    },
    "id": "D0_8mvp-KPZj",
    "outputId": "dd54c056-966f-4fbd-cf24-5fccc00e14e1"
   },
   "outputs": [
    {
     "data": {
      "text/plain": [
       "array([[  0,   0,   0, ...,  54, 228,  86],\n",
       "       [  0,   0,   0, ...,   0, 195, 252],\n",
       "       [  0,   0,   0, ...,   6, 338, 422],\n",
       "       ...,\n",
       "       [  0,   0,   0, ...,   0, 588, 320],\n",
       "       [  0,   0,   0, ..., 244, 515, 183],\n",
       "       [  0,   0,   0, ..., 148, 120, 737]])"
      ]
     },
     "execution_count": 17,
     "metadata": {},
     "output_type": "execute_result"
    }
   ],
   "source": [
    "sequences_matrix = sequence.pad_sequences(sequences, maxlen=max_len)\n",
    "sequences_matrix[:10]"
   ]
  },
  {
   "cell_type": "code",
   "execution_count": 18,
   "metadata": {
    "colab": {
     "base_uri": "https://localhost:8080/"
    },
    "executionInfo": {
     "elapsed": 1566,
     "status": "ok",
     "timestamp": 1611806648468,
     "user": {
      "displayName": "dwik nurdialit",
      "photoUrl": "https://lh3.googleusercontent.com/a-/AOh14Giow_tfZNy4Fx6wEaAzyIWBgpjyR0lyYhLqsu8k8Q=s64",
      "userId": "08741265208720132226"
     },
     "user_tz": -420
    },
    "id": "mg6pceGCKT97",
    "outputId": "bb8b2dae-443a-41bc-df08-91ff62125edc"
   },
   "outputs": [
    {
     "name": "stdout",
     "output_type": "stream",
     "text": [
      "Model: \"model\"\n",
      "_________________________________________________________________\n",
      "Layer (type)                 Output Shape              Param #   \n",
      "=================================================================\n",
      "input_1 (InputLayer)         [(None, 500)]             0         \n",
      "_________________________________________________________________\n",
      "embedding (Embedding)        (None, 500, 50)           50000     \n",
      "_________________________________________________________________\n",
      "lstm (LSTM)                  (None, 64)                29440     \n",
      "_________________________________________________________________\n",
      "dense (Dense)                (None, 256)               16640     \n",
      "_________________________________________________________________\n",
      "dropout (Dropout)            (None, 256)               0         \n",
      "_________________________________________________________________\n",
      "dense_1 (Dense)              (None, 1)                 257       \n",
      "=================================================================\n",
      "Total params: 96,337\n",
      "Trainable params: 96,337\n",
      "Non-trainable params: 0\n",
      "_________________________________________________________________\n"
     ]
    }
   ],
   "source": [
    "i = tf.keras.layers.Input(shape=[max_len])\n",
    "x = tf.keras.layers.Embedding(max_words, 50, input_length=max_len)(i)\n",
    "x = tf.keras.layers.LSTM(64)(x)\n",
    "\n",
    "x = tf.keras.layers.Dense(256, activation='relu')(x)\n",
    "x = tf.keras.layers.Dropout(0.5)(x)\n",
    "x = tf.keras.layers.Dense(1, activation='relu')(x)\n",
    "\n",
    "model = tf.keras.models.Model(inputs=i, outputs=x)\n",
    "model.compile(\n",
    "    loss='binary_crossentropy',\n",
    "    optimizer='RMSprop',\n",
    "    metrics=['accuracy']\n",
    ")\n",
    "model.summary()"
   ]
  },
  {
   "cell_type": "code",
   "execution_count": 19,
   "metadata": {
    "colab": {
     "base_uri": "https://localhost:8080/"
    },
    "executionInfo": {
     "elapsed": 19538,
     "status": "ok",
     "timestamp": 1611806756551,
     "user": {
      "displayName": "dwik nurdialit",
      "photoUrl": "https://lh3.googleusercontent.com/a-/AOh14Giow_tfZNy4Fx6wEaAzyIWBgpjyR0lyYhLqsu8k8Q=s64",
      "userId": "08741265208720132226"
     },
     "user_tz": -420
    },
    "id": "2q6RgGMGKba2",
    "outputId": "2fd20f3d-7912-4e8f-bf33-98a92b9e0c61"
   },
   "outputs": [
    {
     "name": "stdout",
     "output_type": "stream",
     "text": [
      "Epoch 1/10\n",
      "27/27 [==============================] - 17s 543ms/step - loss: 0.3416 - accuracy: 0.8765 - val_loss: 0.1736 - val_accuracy: 0.9498\n"
     ]
    }
   ],
   "source": [
    "r = model.fit(sequences_matrix, y_train,\n",
    "              batch_size=128, epochs=10,\n",
    "              validation_split=0.2,\n",
    "              callbacks=[tf.keras.callbacks.EarlyStopping(\n",
    "                  monitor='val_loss', min_delta=0.0001)])"
   ]
  },
  {
   "cell_type": "markdown",
   "metadata": {
    "id": "x04cXS73LE0k"
   },
   "source": [
    "#5. Prediction"
   ]
  },
  {
   "cell_type": "code",
   "execution_count": 20,
   "metadata": {
    "executionInfo": {
     "elapsed": 861,
     "status": "ok",
     "timestamp": 1611806783353,
     "user": {
      "displayName": "dwik nurdialit",
      "photoUrl": "https://lh3.googleusercontent.com/a-/AOh14Giow_tfZNy4Fx6wEaAzyIWBgpjyR0lyYhLqsu8k8Q=s64",
      "userId": "08741265208720132226"
     },
     "user_tz": -420
    },
    "id": "0vCdZ1kqK2RJ"
   },
   "outputs": [],
   "source": [
    "def preprocessing(X):\n",
    "  x = X.apply(lambda x: clean_txt(x))\n",
    "  x = t.texts_to_sequences(x)\n",
    "  return sequence.pad_sequences(x, maxlen=max_len)"
   ]
  },
  {
   "cell_type": "code",
   "execution_count": 21,
   "metadata": {
    "colab": {
     "base_uri": "https://localhost:8080/"
    },
    "executionInfo": {
     "elapsed": 3420,
     "status": "ok",
     "timestamp": 1611806803293,
     "user": {
      "displayName": "dwik nurdialit",
      "photoUrl": "https://lh3.googleusercontent.com/a-/AOh14Giow_tfZNy4Fx6wEaAzyIWBgpjyR0lyYhLqsu8k8Q=s64",
      "userId": "08741265208720132226"
     },
     "user_tz": -420
    },
    "id": "ObDMijJ2K9fy",
    "outputId": "bd48a999-4005-4578-9df4-0db36d585229"
   },
   "outputs": [
    {
     "name": "stdout",
     "output_type": "stream",
     "text": [
      "44/44 [==============================] - 3s 61ms/step - loss: 0.1654 - accuracy: 0.9454\n"
     ]
    }
   ],
   "source": [
    "s = model.evaluate(preprocessing(df_test['text']), y_test)"
   ]
  },
  {
   "cell_type": "code",
   "execution_count": 22,
   "metadata": {
    "colab": {
     "base_uri": "https://localhost:8080/"
    },
    "executionInfo": {
     "elapsed": 956,
     "status": "ok",
     "timestamp": 1611806856531,
     "user": {
      "displayName": "dwik nurdialit",
      "photoUrl": "https://lh3.googleusercontent.com/a-/AOh14Giow_tfZNy4Fx6wEaAzyIWBgpjyR0lyYhLqsu8k8Q=s64",
      "userId": "08741265208720132226"
     },
     "user_tz": -420
    },
    "id": "UyG2476uLI9z",
    "outputId": "76872b40-f1b5-4bc5-f631-60267f139574"
   },
   "outputs": [
    {
     "name": "stdout",
     "output_type": "stream",
     "text": [
      "Loss: 0.165, Accuracy: 0.945\n"
     ]
    }
   ],
   "source": [
    "print('Loss: {:.3f}, Accuracy: {:.3f}'.format(s[0], s[1]))"
   ]
  },
  {
   "cell_type": "code",
   "execution_count": 23,
   "metadata": {
    "colab": {
     "base_uri": "https://localhost:8080/"
    },
    "executionInfo": {
     "elapsed": 1327,
     "status": "ok",
     "timestamp": 1611806963792,
     "user": {
      "displayName": "dwik nurdialit",
      "photoUrl": "https://lh3.googleusercontent.com/a-/AOh14Giow_tfZNy4Fx6wEaAzyIWBgpjyR0lyYhLqsu8k8Q=s64",
      "userId": "08741265208720132226"
     },
     "user_tz": -420
    },
    "id": "J9tD9yACG6M9",
    "outputId": "76551ce4-ad6f-4004-dcd6-271604a95293"
   },
   "outputs": [
    {
     "name": "stdout",
     "output_type": "stream",
     "text": [
      "(0.0, 'ham')\n"
     ]
    }
   ],
   "source": [
    "# function to predict messages based on model\n",
    "# (should return list containing prediction and label, ex. [0.008318834938108921, 'ham'])\n",
    "def predict_message(pred_text):\n",
    "  p = model.predict(preprocessing(pd.Series([pred_text])))[0]\n",
    "\n",
    "  return (p[0], (\"ham\" if p<0.5 else \"spam\"))\n",
    "\n",
    "pred_text = \"how are you doing today?\"\n",
    "\n",
    "prediction = predict_message(pred_text)\n",
    "print(prediction)"
   ]
  },
  {
   "cell_type": "code",
   "execution_count": 24,
   "metadata": {
    "colab": {
     "base_uri": "https://localhost:8080/"
    },
    "executionInfo": {
     "elapsed": 1329,
     "status": "ok",
     "timestamp": 1611807118104,
     "user": {
      "displayName": "dwik nurdialit",
      "photoUrl": "https://lh3.googleusercontent.com/a-/AOh14Giow_tfZNy4Fx6wEaAzyIWBgpjyR0lyYhLqsu8k8Q=s64",
      "userId": "08741265208720132226"
     },
     "user_tz": -420
    },
    "id": "Dxotov85SjsC",
    "outputId": "59684d8a-8a81-4a5a-844b-876e7208eb1a"
   },
   "outputs": [
    {
     "name": "stdout",
     "output_type": "stream",
     "text": [
      "(0.0, 'ham')\n",
      "(0.0, 'ham')\n",
      "(0.2166499, 'ham')\n",
      "(0.2691666, 'ham')\n",
      "(0.0, 'ham')\n",
      "(0.0, 'ham')\n",
      "\n"
     ]
    }
   ],
   "source": [
    "# Run this cell to test your function and model. Do not modify contents.\n",
    "def test_predictions():\n",
    "  test_messages = [\"how are you\",\n",
    "                    \"i dont want to go. can we try it a different day? available sat\",\n",
    "                   \"our new mobile video service is live. just install on your phone to start watching.\",\n",
    "                   \"you have won £1000 cash! call to claim your prize.\",\n",
    "                   \"i'll bring it tomorrow. don't forget the milk.\",\n",
    "                   \"wow, is your arm alright. that happened to me one time too\"\n",
    "                  ]\n",
    "\n",
    "  test_answers = [\"ham\",\"ham\", \"spam\", \"spam\", \"ham\", \"ham\"]\n",
    "  passed = True\n",
    "\n",
    "  for msg, ans in zip(test_messages, test_answers):\n",
    "    prediction = predict_message(msg)\n",
    "    print(prediction)\n",
    "    if prediction[1] != ans:\n",
    "      passed = False\n",
    "\n",
    "  if passed:\n",
    "    print(\"\")\n",
    "  else:\n",
    "    print(\"\")\n",
    "\n",
    "test_predictions()\n"
   ]
  },
  {
   "cell_type": "code",
   "execution_count": null,
   "metadata": {},
   "outputs": [],
   "source": []
  }
 ],
 "metadata": {
  "accelerator": "GPU",
  "colab": {
   "collapsed_sections": [],
   "name": "fcc_sms_text_classification.ipynb",
   "provenance": [
    {
     "file_id": "https://github.com/freeCodeCamp/boilerplate-neural-network-sms-text-classifier/blob/master/fcc_sms_text_classification.ipynb",
     "timestamp": 1611805298425
    }
   ]
  },
  "kernelspec": {
   "display_name": "Python 3",
   "language": "python",
   "name": "python3"
  },
  "language_info": {
   "codemirror_mode": {
    "name": "ipython",
    "version": 3
   },
   "file_extension": ".py",
   "mimetype": "text/x-python",
   "name": "python",
   "nbconvert_exporter": "python",
   "pygments_lexer": "ipython3",
   "version": "3.8.5"
  }
 },
 "nbformat": 4,
 "nbformat_minor": 1
}
